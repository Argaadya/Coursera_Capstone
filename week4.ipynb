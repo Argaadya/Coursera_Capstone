{
 "metadata": {
  "language_info": {
   "codemirror_mode": {
    "name": "ipython",
    "version": 3
   },
   "file_extension": ".py",
   "mimetype": "text/x-python",
   "name": "python",
   "nbconvert_exporter": "python",
   "pygments_lexer": "ipython3",
   "version": "3.8.5-final"
  },
  "orig_nbformat": 2,
  "kernelspec": {
   "name": "python3",
   "display_name": "Python 3",
   "language": "python"
  }
 },
 "nbformat": 4,
 "nbformat_minor": 2,
 "cells": [
  {
   "source": [
    "# Indonesia: The Capital vs The Tourist Attraction\n",
    "\n",
    "Indonesia is a big and vast countries, ranked 4 in hte list of countries by population. Based on the [worldmeters.info](https://www.worldometers.info/world-population/indonesia-population/), currently Indonesia has a population of 275 millions people. \n",
    "\n",
    "![Indonesia](https://images.mapsofworld.com/earthquake/1482303515indonesia-map.gif)\n",
    "\n",
    "Indonesia is divided into 34 different provinces, scattered in 5 main islands and thousands of small islands. One of the most popular province is the capital province of Jakarta which is also one of the main financial hub in Indonesia. Another popular province is the province of Bali, which is famous as a tourist attraction both for domestic and international tourist with total contribution of almost 29% of the national foreign exchange.\n",
    "\n",
    "This project will explore and find different cluster of neighborhood both in Jakarta and Bali to see if there is certain characteristics that is associated with each province or if both provinces share the same characteristics based on various places and landmarks on its neighborhood."
   ],
   "cell_type": "markdown",
   "metadata": {}
  },
  {
   "cell_type": "code",
   "execution_count": 1,
   "metadata": {},
   "outputs": [],
   "source": [
    "import numpy as np\n",
    "import pandas as pd\n",
    "\n",
    "pd.set_option('display.max_columns', None)\n",
    "\n",
    "# Web Scraping\n",
    "import requests\n",
    "from requests import get\n",
    "from bs4 import BeautifulSoup"
   ]
  },
  {
   "source": [
    "# Data\n",
    "\n",
    "The postal code and information about each province and city will be gathered from https://postcode.id/, which will give us the following fields from the data table:\n",
    "\n",
    "- Propinsi (Province): The name of the province\n",
    "- Jenis (City Type): Type of the city: either city or regency\n",
    "- Kabupaten/Kota: The name of the city/regency\n",
    "- Kecamatan: The name of district in the city/regency\n",
    "- Keluarahan: The name of the neighborhood\n",
    "- Postcode: The postal code of the neighborhood\n",
    "\n",
    "I will also use the `geocoder` package to get the latitude and longitude information from each district/neighborhood. To get the list of places and landmarks in each area, I will use the `Foursquare API`.\n",
    "\n",
    "With the mentioned data collection method, I will be able to extracts various places and landmarks. I will use the clustering analysis to find different characteristics of each city and the respective neighborhood to see if Jakarta and Bali has the same overall characteristics based on each province's main features. Another business perspective is to determine if it is better to open up a restaurant in Bali or in Jakarta. Is Bali as a tourist attraction more associated with restaurant than Jakarta? Is it better to setup a contractor office in Jakarta since Jakarta is a capital and an economic districts? We will find out in this project.\n",
    "\n",
    "## Jakarta Province\n",
    "\n",
    "The following code will scrape the data from the https://postcode.id/dki-jakarta/ and will give me the list of information about the district and neighborhood in the capital province of Jakarta. Jakarta is a big province and is divided into 5 cities: Central Jakarta, South Jakarta, East Jakarta, West Jakarta, and North Jakarta."
   ],
   "cell_type": "markdown",
   "metadata": {}
  },
  {
   "cell_type": "code",
   "execution_count": 15,
   "metadata": {},
   "outputs": [],
   "source": [
    "url = \"https://postcode.id/dki-jakarta/\"\n",
    "response = get(url)\n",
    "html_soup = BeautifulSoup(response.text, 'html.parser')"
   ]
  },
  {
   "cell_type": "code",
   "execution_count": 16,
   "metadata": {},
   "outputs": [
    {
     "output_type": "execute_result",
     "data": {
      "text/plain": [
       "       province city_type            city     district neighborhood  \\\n",
       "0   DKI Jakarta      Kota   Jakarta Barat   Taman Sari    Pinangsia   \n",
       "1   DKI Jakarta      Kota   Jakarta Barat   Taman Sari       Glodok   \n",
       "2   DKI Jakarta      Kota   Jakarta Barat   Taman Sari    Keagungan   \n",
       "3   DKI Jakarta      Kota   Jakarta Barat   Taman Sari       Krukut   \n",
       "4   DKI Jakarta      Kota   Jakarta Barat   Taman Sari   Taman Sari   \n",
       "\n",
       "  postal_code  \n",
       "0       11110  \n",
       "1       11120  \n",
       "2       11130  \n",
       "3       11140  \n",
       "4       11150  "
      ],
      "text/html": "<div>\n<style scoped>\n    .dataframe tbody tr th:only-of-type {\n        vertical-align: middle;\n    }\n\n    .dataframe tbody tr th {\n        vertical-align: top;\n    }\n\n    .dataframe thead th {\n        text-align: right;\n    }\n</style>\n<table border=\"1\" class=\"dataframe\">\n  <thead>\n    <tr style=\"text-align: right;\">\n      <th></th>\n      <th>province</th>\n      <th>city_type</th>\n      <th>city</th>\n      <th>district</th>\n      <th>neighborhood</th>\n      <th>postal_code</th>\n    </tr>\n  </thead>\n  <tbody>\n    <tr>\n      <th>0</th>\n      <td>DKI Jakarta</td>\n      <td>Kota</td>\n      <td>Jakarta Barat</td>\n      <td>Taman Sari</td>\n      <td>Pinangsia</td>\n      <td>11110</td>\n    </tr>\n    <tr>\n      <th>1</th>\n      <td>DKI Jakarta</td>\n      <td>Kota</td>\n      <td>Jakarta Barat</td>\n      <td>Taman Sari</td>\n      <td>Glodok</td>\n      <td>11120</td>\n    </tr>\n    <tr>\n      <th>2</th>\n      <td>DKI Jakarta</td>\n      <td>Kota</td>\n      <td>Jakarta Barat</td>\n      <td>Taman Sari</td>\n      <td>Keagungan</td>\n      <td>11130</td>\n    </tr>\n    <tr>\n      <th>3</th>\n      <td>DKI Jakarta</td>\n      <td>Kota</td>\n      <td>Jakarta Barat</td>\n      <td>Taman Sari</td>\n      <td>Krukut</td>\n      <td>11140</td>\n    </tr>\n    <tr>\n      <th>4</th>\n      <td>DKI Jakarta</td>\n      <td>Kota</td>\n      <td>Jakarta Barat</td>\n      <td>Taman Sari</td>\n      <td>Taman Sari</td>\n      <td>11150</td>\n    </tr>\n  </tbody>\n</table>\n</div>"
     },
     "metadata": {},
     "execution_count": 16
    }
   ],
   "source": [
    "table_content = html_soup.find_all('div', class_ = \"supsystic-tables-wrap\")\n",
    "table_content = table_content[0].find_all('td')\n",
    "\n",
    "raw_text = []\n",
    "for i in np.arange(0, len(table_content)):\n",
    " raw_text.append(table_content[i].text)\n",
    "\n",
    "province = raw_text[::6]\n",
    "city_type = raw_text[1::6]\n",
    "city = raw_text[2::6]\n",
    "district = raw_text[3::6]\n",
    "neighborhood = raw_text[4::6]\n",
    "postal_code = raw_text[5::6]\n",
    "\n",
    "df_jakarta = pd.DataFrame({'province':province, 'city_type':city_type, 'city':city, 'district': district, 'neighborhood':neighborhood, 'postal_code':postal_code})\n",
    "df_jakarta.head()"
   ]
  },
  {
   "source": [
    "Let's check the number of neighborhood in Jakarta."
   ],
   "cell_type": "markdown",
   "metadata": {}
  },
  {
   "cell_type": "code",
   "execution_count": 13,
   "metadata": {},
   "outputs": [
    {
     "output_type": "execute_result",
     "data": {
      "text/plain": [
       "(267, 6)"
      ]
     },
     "metadata": {},
     "execution_count": 13
    }
   ],
   "source": [
    "df_jakarta.shape"
   ]
  },
  {
   "source": [
    "## Bali Province\n",
    "\n",
    "The following code will scrape the data from the https://postcode.id/bali/ and will give me the list of information about the district and neighborhood in the province of Bali."
   ],
   "cell_type": "markdown",
   "metadata": {}
  },
  {
   "cell_type": "code",
   "execution_count": 8,
   "metadata": {},
   "outputs": [
    {
     "output_type": "execute_result",
     "data": {
      "text/plain": [
       "  province city_type     city district neighborhood postal_code\n",
       "0     Bali      Kab.   Badung   Mengwi    Abianbase       80351\n",
       "1     Bali      Kab.   Badung   Mengwi         Baha       80351\n",
       "2     Bali      Kab.   Badung   Mengwi        Buduk       80351\n",
       "3     Bali      Kab.   Badung   Mengwi       Cemagi       80351\n",
       "4     Bali      Kab.   Badung   Mengwi     Gulingan       80351"
      ],
      "text/html": "<div>\n<style scoped>\n    .dataframe tbody tr th:only-of-type {\n        vertical-align: middle;\n    }\n\n    .dataframe tbody tr th {\n        vertical-align: top;\n    }\n\n    .dataframe thead th {\n        text-align: right;\n    }\n</style>\n<table border=\"1\" class=\"dataframe\">\n  <thead>\n    <tr style=\"text-align: right;\">\n      <th></th>\n      <th>province</th>\n      <th>city_type</th>\n      <th>city</th>\n      <th>district</th>\n      <th>neighborhood</th>\n      <th>postal_code</th>\n    </tr>\n  </thead>\n  <tbody>\n    <tr>\n      <th>0</th>\n      <td>Bali</td>\n      <td>Kab.</td>\n      <td>Badung</td>\n      <td>Mengwi</td>\n      <td>Abianbase</td>\n      <td>80351</td>\n    </tr>\n    <tr>\n      <th>1</th>\n      <td>Bali</td>\n      <td>Kab.</td>\n      <td>Badung</td>\n      <td>Mengwi</td>\n      <td>Baha</td>\n      <td>80351</td>\n    </tr>\n    <tr>\n      <th>2</th>\n      <td>Bali</td>\n      <td>Kab.</td>\n      <td>Badung</td>\n      <td>Mengwi</td>\n      <td>Buduk</td>\n      <td>80351</td>\n    </tr>\n    <tr>\n      <th>3</th>\n      <td>Bali</td>\n      <td>Kab.</td>\n      <td>Badung</td>\n      <td>Mengwi</td>\n      <td>Cemagi</td>\n      <td>80351</td>\n    </tr>\n    <tr>\n      <th>4</th>\n      <td>Bali</td>\n      <td>Kab.</td>\n      <td>Badung</td>\n      <td>Mengwi</td>\n      <td>Gulingan</td>\n      <td>80351</td>\n    </tr>\n  </tbody>\n</table>\n</div>"
     },
     "metadata": {},
     "execution_count": 8
    }
   ],
   "source": [
    "url = \"https://postcode.id/bali/\"\n",
    "response = get(url)\n",
    "html_soup = BeautifulSoup(response.text, 'html.parser')\n",
    "table_content = html_soup.find_all('div', class_ = \"supsystic-tables-wrap\")\n",
    "table_content = table_content[0].find_all('td')\n",
    "\n",
    "raw_text = []\n",
    "for i in np.arange(0, len(table_content)):\n",
    " raw_text.append(table_content[i].text)\n",
    "\n",
    "province = raw_text[::6]\n",
    "city_type = raw_text[1::6]\n",
    "city = raw_text[2::6]\n",
    "district = raw_text[3::6]\n",
    "neighborhood = raw_text[4::6]\n",
    "postal_code = raw_text[5::6]\n",
    "\n",
    "df_bali = pd.DataFrame({'province':province, 'city_type':city_type, 'city':city, 'district': district, 'neighborhood':neighborhood, 'postal_code':postal_code})\n",
    "df_bali.head()"
   ]
  },
  {
   "source": [
    "Let's check the number of neighborhood in Bali."
   ],
   "cell_type": "markdown",
   "metadata": {}
  },
  {
   "cell_type": "code",
   "execution_count": 14,
   "metadata": {},
   "outputs": [
    {
     "output_type": "execute_result",
     "data": {
      "text/plain": [
       "(714, 6)"
      ]
     },
     "metadata": {},
     "execution_count": 14
    }
   ],
   "source": [
    "df_bali.shape"
   ]
  }
 ]
}